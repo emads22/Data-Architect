{
  "cells": [
    {
      "cell_type": "markdown",
      "metadata": {
        "id": "It89APiAtTUF"
      },
      "source": [
        "# DataSynth\n",
        "\n",
        "Develop a Dataset Generator using Gradio UI to create an intuitive interface that streamlines dataset generation tasks. The tool will empower users to customize and generate datasets effortlessly by leveraging a multishot approach. Users can provide examples as prompts to guide the generation process, ensuring the output aligns with their desired structure and content. This multishot capability enables the system to learn from multiple examples, enhancing its ability to produce realistic and contextually accurate datasets.\n"
      ]
    },
    {
      "cell_type": "markdown",
      "metadata": {
        "id": "RCxoCPDKay3b"
      },
      "source": [
        "## Setup and Install Dependencies\n",
        "\n",
        "- Start by installing all necessary libraries for dataset generation, model loading, and building the Gradio interface.\n",
        "- Ensure to include dependencies for data preprocessing, visualization, and export capabilities."
      ]
    },
    {
      "cell_type": "code",
      "execution_count": null,
      "metadata": {
        "id": "f2vvgnFpHpID"
      },
      "outputs": [],
      "source": [
        "!pip install -q requests torch bitsandbytes transformers sentencepiece accelerate openai httpx==0.27.2 gradio"
      ]
    },
    {
      "cell_type": "code",
      "execution_count": null,
      "metadata": {
        "id": "FW8nl3XRFrz0"
      },
      "outputs": [],
      "source": [
        "# imports\n",
        "import os\n",
        "import torch\n",
        "import json\n",
        "import threading\n",
        "import gradio as gr\n",
        "from openai import OpenAI\n",
        "from google.colab import userdata, drive\n",
        "from huggingface_hub import login\n",
        "from transformers import AutoTokenizer, AutoModelForCausalLM, BitsAndBytesConfig, TextIteratorStreamer, TextStreamer\n",
        "from pathlib import Path"
      ]
    },
    {
      "cell_type": "markdown",
      "metadata": {
        "id": "HTl3mcjyzIEE"
      },
      "source": [
        "## Mount Google Drive to the Colab Environment\n",
        "\n",
        "- Mount Google Drive to enable access to files stored in your Drive directly from the Colab environment.  \n",
        "- This allows saving and loading models, files, and other resources persistently across sessions.\n"
      ]
    },
    {
      "cell_type": "code",
      "execution_count": null,
      "metadata": {
        "colab": {
          "base_uri": "https://localhost:8080/"
        },
        "id": "Es9GkQ0FGCMt",
        "outputId": "f8073fce-7097-41b9-ae6e-a3866fc026b2"
      },
      "outputs": [
        {
          "name": "stdout",
          "output_type": "stream",
          "text": [
            "Drive already mounted at /content/drive; to attempt to forcibly remount, call drive.mount(\"/content/drive\", force_remount=True).\n"
          ]
        }
      ],
      "source": [
        "# mount Google Drive to the Colab environment, allowing access to files stored in the Drive.\n",
        "drive.mount(\"/content/drive\")"
      ]
    },
    {
      "cell_type": "markdown",
      "metadata": {
        "id": "COWdmqYnqVlN"
      },
      "source": [
        "## Define Required Constants\n",
        "\n",
        "- Set up the necessary constants that will be used throughout the application.\n"
      ]
    },
    {
      "cell_type": "code",
      "execution_count": null,
      "metadata": {
        "id": "q3D1_T0uG_Qh"
      },
      "outputs": [],
      "source": [
        "# Specifies the path or identifier for the LLaMA model to be used for generating meeting minutes\n",
        "LLAMA = \"meta-llama/Meta-Llama-3.1-8B-Instruct\"\n",
        "\n",
        "# These paths are optional and can be customized based on user preference.\n",
        "\n",
        "# DRIVE_DIR = \"/content\"  # Uncomment this line and comment the next one if you prefer to save the model in the temporary runtime session (non-persistent storage).\n",
        "DRIVE_DIR = \"/content/drive/MyDrive\"  # Path to Google Drive for persistent storage.\n",
        "DRIVE_MODELS_DIR = DRIVE_DIR + \"/my_models\"  # Directory within Google Drive to store the saved models.\n",
        "\n",
        "# End-of-sequence (EOS) token used by the LLaMA model to signify the end of the entire generated response.\n",
        "MODEL_EOS = \"<|eot_id|>\"\n",
        "\n",
        "# Maximum number of tokens allowed for the model's generation to control output length and prevent exceeding limits\n",
        "MAX_TOKENS = 2000\n",
        "\n",
        "# Define the assistant's role and task instructions\n",
        "SYSTEM_PROMPT = \"\"\"\n",
        "You are an AI assistant tasked with generating synthetic testing data for various purposes. Your goal is to create realistic and diverse datasets based on the user's specifications and provided examples. Follow these instructions carefully to produce high-quality synthetic data in JSON format.\n",
        "\n",
        "Inputs You Will Receive:\n",
        "1. Subject: This specifies the type of data to generate (e.g., \"job postings\", \"customer reviews\").\n",
        "2. Number of Samples: The number of synthetic data samples to generate.\n",
        "3. Two Multi-Shot Examples: These examples define the expected structure and style of the data to be generated. Each example will include three fields (field1, field2, field3) and their corresponding values. If fewer than three fields are required, unused fields will be left blank or set to `None`.\n",
        "\n",
        "Your Steps:\n",
        "1. Analyze the provided subject, number of samples, and the structure of the examples.\n",
        "2. Use the examples as a guide to replicate the format, relationships, and conventions for the synthetic data.\n",
        "3. For each field, generate realistic and diverse content that matches the specified data type and examples. Ensure consistency within each sample while introducing appropriate variations across the dataset.\n",
        "4. Add slight randomness and imperfections, such as varying lengths, occasional typos, or minor inconsistencies, to make the data appear more realistic.\n",
        "5. If a field is left blank or set to `None` in the examples, ensure this is reflected in the generated data where applicable.\n",
        "6. Do not include any placeholder text like \"Lorem ipsum\" or other generic patterns. All generated content must be realistic and contextually appropriate.\n",
        "\n",
        "Output Format:\n",
        "- The generated data must be output as a JSON object.\n",
        "- Use the following structure to format the output JSON dataset:\n",
        "\n",
        "```json\n",
        "{\n",
        "  \"data\": [\n",
        "    {\n",
        "      \"field1\": \"value1\",\n",
        "      \"field2\": \"value2\",\n",
        "      \"field3\": \"value3\"\n",
        "    },\n",
        "    {\n",
        "      \"field1\": \"value1\",\n",
        "      \"field2\": \"value2\",\n",
        "      \"field3\": \"value3\"\n",
        "    },\n",
        "    ...\n",
        "  ]\n",
        "}\n",
        "```\n",
        "\n",
        "Important Directive:\n",
        "- Do not include any explanatory text, labels, or formatting (such as Markdown) in the output.\n",
        "- The output must strictly consist of the JSON dataset without any additional context, headings, or commentary.\n",
        "\n",
        "If any required input (subject, number of samples, or examples) is missing or incomplete, do not proceed with generating the data. Instead, prompt the user to provide all necessary details before continuing.\n",
        "\n",
        "Your primary objectives are:\n",
        "- Ensure the output is diverse and realistic.\n",
        "- Maintain adherence to the conventions and structure defined in the examples.\n",
        "- Deliver the specified number of samples in the expected JSON format.\n",
        "- Output only the JSON dataset with no surrounding text, explanations, or formatting.\n",
        "\n",
        "Always strive to produce data that appears natural, adheres to the expectations set by the examples, and avoids the use of placeholder text or generic content.\n",
        "\n",
        "\"\"\"\n",
        "\n",
        "# Construct the user's prompt with detailed instructions and the provided transcript\n",
        "def user_prompt(subject: str, num_samples: int, sample1: dict, sample2: dict) -> str:\n",
        "    prompt = f\"\"\"\n",
        "Input Specifications:\n",
        "- Subject: {subject}\n",
        "- Number of Samples: {num_samples}\n",
        "\n",
        "This will guide you to structure the generated data correctly.\n",
        "\n",
        "Each synthetic data sample will follow this structure:\n",
        "\n",
        "{{\n",
        "  \"field1\": \"value1\",\n",
        "  \"field2\": \"value2\"\n",
        "}}\n",
        "\n",
        "These are Three Multi-Shot Examples:\n",
        "\n",
        "Example of Sample 1:\n",
        "{sample1}\n",
        "\n",
        "Example of Sample 2:\n",
        "{sample2}\n",
        "\n",
        "Do not include these provided examples in the generated output.\n",
        "\n",
        "Your Task:\n",
        "\n",
        "Using the provided subject, number of samples, fields, and examples:\n",
        "\n",
        "1. Generate synthetic testing data that adheres to the structure defined above.\n",
        "2. Maintain diversity and realism in the generated data, ensuring that it matches the conventions, formatting, and relationships specified in the examples.\n",
        "3. Introduce slight randomness (e.g., variations in length, occasional typos, or varying content) to make the data more realistic.\n",
        "\n",
        "Sample Output:\n",
        "\n",
        "{{\n",
        "  \"data\": [\n",
        "    {{\n",
        "      \"Sample Field 1\": \"Sample Value A\",\n",
        "      \"Sample Field 2\": \"Sample Value B\",\n",
        "      \"Sample Field 3\": \"Sample Value C\"\n",
        "    }},\n",
        "    {{\n",
        "      \"Sample Field 1\": \"Sample Value X\",\n",
        "      \"Sample Field 2\": \"Sample Value Y\",\n",
        "      \"Sample Field 3\": \"Sample Value Z\"\n",
        "    }},\n",
        "    ...\n",
        "  ]\n",
        "}}\n",
        "\"\"\"\n",
        "    return prompt\n"
      ]
    },
    {
      "cell_type": "markdown",
      "metadata": {
        "id": "Q8TtmIfkjfju"
      },
      "source": [
        "## Add Secrets to the Colab Notebook\n",
        "\n",
        "- Add your Hugging Face Hub credentials to sign in and access models.  "
      ]
    },
    {
      "cell_type": "code",
      "execution_count": null,
      "metadata": {
        "id": "xYW8kQYtF-3L"
      },
      "outputs": [],
      "source": [
        "# Sign in to HuggingFace Hub using Secrets in Colab\n",
        "hf_token = userdata.get('HF_TOKEN')\n",
        "login(hf_token, add_to_git_credential=True)"
      ]
    },
    {
      "cell_type": "markdown",
      "metadata": {
        "id": "fbnNjDh8FDOr"
      },
      "source": [
        "## Define Model and Tokenizer Variables\n",
        "\n",
        "- Initialize the `model` and `tokenizer` variables by assigning them to `None`.  \n",
        "- This ensures they can be properly loaded later when needed."
      ]
    },
    {
      "cell_type": "code",
      "execution_count": null,
      "metadata": {
        "id": "d0VrTdBR9i57"
      },
      "outputs": [],
      "source": [
        "# Initialize the model and tokenizer variables\n",
        "tokenizer = None\n",
        "model = None"
      ]
    },
    {
      "cell_type": "markdown",
      "metadata": {
        "id": "hA1-Rs5CtGeO"
      },
      "source": [
        "## Load the Model and Tokenizer\n",
        "\n",
        "- If this is the first time using the runtime, load the model from the Hugging Face Hub and save it to the drive for future use (this ensures the model persists even after the runtime disconnects).  \n",
        "- Alternatively, the model can be saved in the current temporary runtime session location, but note that it will not persist after the session ends or disconnects.  \n",
        "- If the model is already saved on the drive, it will be loaded directly from there to save time.\n"
      ]
    },
    {
      "cell_type": "code",
      "execution_count": null,
      "metadata": {
        "id": "hMwQuGd76u3M"
      },
      "outputs": [],
      "source": [
        "def load_model(model_name, local_dir=DRIVE_MODELS_DIR):\n",
        "    # Convert the local_dir to a Path object for easier path handling\n",
        "    local_dir = Path(local_dir)\n",
        "\n",
        "    # Create a subdirectory for the model, replacing '/' in model_name with '_'\n",
        "    model_dir = local_dir / model_name.replace(\"/\", \"_\")\n",
        "\n",
        "    if model_dir.exists():  # Check if the model is already downloaded locally\n",
        "        # Load the tokenizer and model from the existing directory\n",
        "        tokenizer = AutoTokenizer.from_pretrained(str(model_dir))\n",
        "        model = AutoModelForCausalLM.from_pretrained(str(model_dir))\n",
        "\n",
        "    else:  # If the model is not available locally, download and configure it\n",
        "        # Configure the quantization settings for loading the model in 4-bit precision\n",
        "        quant_config = BitsAndBytesConfig(\n",
        "            load_in_4bit=True,                   # Load the model in 4-bit precision to save memory\n",
        "            bnb_4bit_use_double_quant=True,      # Enable double quantization for better performance\n",
        "            bnb_4bit_compute_dtype=torch.bfloat16,  # Set computation data type to bfloat16\n",
        "            bnb_4bit_quant_type=\"nf4\"            # Use NF4 quantization type for improved accuracy\n",
        "        )\n",
        "\n",
        "        # Download the tokenizer with remote code support enabled\n",
        "        tokenizer = AutoTokenizer.from_pretrained(model_name, trust_remote_code=True)\n",
        "\n",
        "        # Set the padding token to the end-of-sequence (EOS) token for consistency\n",
        "        tokenizer.pad_token = tokenizer.eos_token\n",
        "\n",
        "        # Download and load the model with the specified quantization configuration\n",
        "        model = AutoModelForCausalLM.from_pretrained(model_name, config=quant_config)\n",
        "\n",
        "        # Save the downloaded model and tokenizer locally for future use\n",
        "        model_dir.mkdir(parents=True, exist_ok=True)  # Create the directory if it doesn't exist\n",
        "        model.save_pretrained(model_dir)  # Save the model to the specified directory\n",
        "        tokenizer.save_pretrained(model_dir)  # Save the tokenizer to the specified directory\n",
        "\n",
        "    # Return the loaded tokenizer and model for further use\n",
        "    return tokenizer, model\n",
        "\n"
      ]
    },
    {
      "cell_type": "code",
      "execution_count": null,
      "metadata": {
        "colab": {
          "base_uri": "https://localhost:8080/",
          "height": 84,
          "referenced_widgets": [
            "45853583a5d74489b78e7a757c86eabc",
            "c39c4145234b46c2aae26cc7c69cbbe4",
            "1170dbecdbca46cbb68fed670e7d1e97",
            "22ebb22226bc4814b89b66fe3e3b7476",
            "1b875156586a423fa8ea123a4ac29506",
            "54aec0d87ac04cbeb19c91e25865490c",
            "4759ae33a1324998adc0c0c13fb61846",
            "6bab5a0e677e4f24ba276008faa90e4d",
            "505b9e6fd112441b8a2edd3902cf0a36",
            "33bca2a6731549ed80c1222fb84cec50",
            "8c31c8e698014058add3e48bb7ca4b58"
          ]
        },
        "id": "hsPIT2ydgbH7",
        "outputId": "696892ce-c1d4-4e6a-845e-1f89763b82d3"
      },
      "outputs": [
        {
          "name": "stderr",
          "output_type": "stream",
          "text": [
            "Unused kwargs: ['_load_in_4bit', '_load_in_8bit', 'quant_method']. These kwargs are not used in <class 'transformers.utils.quantization_config.BitsAndBytesConfig'>.\n",
            "`low_cpu_mem_usage` was None, now default to True since model is quantized.\n"
          ]
        },
        {
          "data": {
            "application/vnd.jupyter.widget-view+json": {
              "model_id": "45853583a5d74489b78e7a757c86eabc",
              "version_major": 2,
              "version_minor": 0
            },
            "text/plain": [
              "Loading checkpoint shards:   0%|          | 0/2 [00:00<?, ?it/s]"
            ]
          },
          "metadata": {},
          "output_type": "display_data"
        }
      ],
      "source": [
        "# call the helper function and load the model and tokenizer\n",
        "tokenizer, model = load_model(LLAMA)"
      ]
    },
    {
      "cell_type": "markdown",
      "metadata": {
        "id": "qKxNjzFDUffs"
      },
      "source": [
        "## Test Dataset Generation\n",
        "\n",
        "- Easily generate synthetic datasets based on your test inputs."
      ]
    },
    {
      "cell_type": "code",
      "execution_count": null,
      "metadata": {
        "id": "6yaXO1Ycuf0x"
      },
      "outputs": [],
      "source": [
        "# generating test function\n",
        "def test_generate(user_prompt):\n",
        "  global tokenizer, model\n",
        "\n",
        "  messages = [{\"role\": \"system\", \"content\": SYSTEM_PROMPT }]\n",
        "  # Append the user's new message to the conversation history\n",
        "  messages.append({\"role\": \"user\", \"content\": user_prompt})\n",
        "\n",
        "  inputs = tokenizer.apply_chat_template(messages, return_tensors=\"pt\", add_generation_prompt=True).to(\"cuda\")\n",
        "  streamer = TextIteratorStreamer(tokenizer, skip_prompt=True, decode_kwargs={\"skip_special_tokens\": True})\n",
        "  # model.generate(inputs, max_new_tokens=MAX_TOKENS, streamer=streamer)\n",
        "  thread = threading.Thread(\n",
        "      target=model.generate,\n",
        "      kwargs={\"inputs\": inputs, \"max_new_tokens\": MAX_TOKENS, \"streamer\": streamer}\n",
        "  )\n",
        "  thread.start()\n",
        "\n",
        "  full_response = \"\"\n",
        "  for chunk in streamer:\n",
        "    cleaned_chunk = chunk.replace(MODEL_EOS, \"\")\n",
        "    print(cleaned_chunk, end=\"\")"
      ]
    },
    {
      "cell_type": "code",
      "execution_count": null,
      "metadata": {
        "id": "1OyC-8J-oWtx"
      },
      "outputs": [],
      "source": [
        "# testing inputs values\n",
        "subject = \"customer reviews\"\n",
        "num_samples = 6\n",
        "sample1 = {\n",
        "    \"product\": \"chocolate cake\",\n",
        "    \"review\": \"This cake is the best I've ever tasted! It's moist and flavorful. I bought it for my birthday party and everyone loved it.\",\n",
        "    \"customer\": \"John\",\n",
        "}\n",
        "sample2 = {\n",
        "    \"product\": \"comic book\",\n",
        "    \"review\": \"This book is amazing! The story is so interesting and the pictures are beautiful. I read it to my kids every night.\",\n",
        "    \"customer\": \"Jane\",\n",
        "}\n"
      ]
    },
    {
      "cell_type": "code",
      "execution_count": null,
      "metadata": {
        "colab": {
          "base_uri": "https://localhost:8080/"
        },
        "id": "b06Q4Hhaot0S",
        "outputId": "c6cc97fd-b901-4f37-f167-6e95327139be"
      },
      "outputs": [
        {
          "name": "stderr",
          "output_type": "stream",
          "text": [
            "The attention mask and the pad token id were not set. As a consequence, you may observe unexpected behavior. Please pass your input's `attention_mask` to obtain reliable results.\n",
            "Setting `pad_token_id` to `eos_token_id`:128001 for open-end generation.\n",
            "The attention mask is not set and cannot be inferred from input because pad token is same as eos token. As a consequence, you may observe unexpected behavior. Please pass your input's `attention_mask` to obtain reliable results.\n"
          ]
        },
        {
          "name": "stdout",
          "output_type": "stream",
          "text": [
            "{\n",
            "  \"data\": [\n",
            "    {\n",
            "      \"product\": \"lemon tart\",\n",
            "      \"review\": \"I'm so glad I found this bakery! Their lemon tart is the perfect balance of sweet and tangy. The crust is flaky and the filling is creamy. I could eat it every day.\",\n",
            "      \"customer\": \"Emily\"\n",
            "    },\n",
            "    {\n",
            "      \"product\": \"video game\",\n",
            "      \"review\": \"This game is so much fun! The graphics are amazing and the storyline is engaging. I've played it for hours on end and still can't get enough. My only complaint is that it's a bit too easy.\",\n",
            "      \"customer\": \"Michael\"\n",
            "    },\n",
            "    {\n",
            "      \"product\": \"pizza\",\n",
            "      \"review\": \"I'm a big fan of this pizza place. Their crust is cooked to perfection and the toppings are always fresh. The only thing that would make it better is if they had a gluten-free option.\",\n",
            "      \"customer\": \"Sarah\"\n",
            "    },\n",
            "    {\n",
            "      \"product\": \"coffee mug\",\n",
            "      \"review\": \"I love this coffee mug! It's the perfect size and the design is so cute. I use it every morning to start my day off right. The only thing I'd change is the material - it's a bit too delicate.\",\n",
            "      \"customer\": \"David\"\n",
            "    },\n",
            "    {\n",
            "      \"product\": \"skincare product\",\n",
            "      \"review\": \"I've been using this skincare product for weeks and I can already see a difference in my skin. It's so gentle and effective. I've tried a lot of other products before, but this one is definitely my favorite.\",\n",
            "      \"customer\": \"Rachel\"\n",
            "    },\n",
            "    {\n",
            "      \"product\": \"book\",\n",
            "      \"review\": \"I just finished reading this book and I'm still thinking about it. The characters are so well-developed and the plot is full of twists and turns. I highly recommend it to anyone who loves a good mystery.\",\n",
            "      \"customer\": \"James\"\n",
            "    }\n",
            "  ]\n",
            "}"
          ]
        }
      ],
      "source": [
        "# call the function\n",
        "test_generate(user_prompt(subject, num_samples, sample1, sample2))"
      ]
    },
    {
      "cell_type": "markdown",
      "metadata": {
        "id": "9IjdHkJgpfJt"
      },
      "source": [
        "## Create the User Interface (UI) with Gradio\n",
        "\n",
        "- Design an intuitive and user-friendly Gradio interface to generate synthetic datasets effortlessly.\n",
        "- Allow users to specify inputs, customize fields, and generate datasets in real-time.\n",
        "- Ensure the UI is simple, responsive, and accessible for seamless interaction.\n",
        "\n",
        "\n"
      ]
    },
    {
      "cell_type": "code",
      "execution_count": null,
      "metadata": {
        "id": "nheHOEtsw1Ki"
      },
      "outputs": [],
      "source": [
        "# Function to process input data\n",
        "def process_user_inputs(subject, num_samples,\n",
        "                        sample_field1, sample_field2, sample_field3,\n",
        "                        sample1_value1, sample1_value2, sample1_value3,\n",
        "                        sample2_value1, sample2_value2, sample2_value3):\n",
        "    # Ensure all required inputs are provided\n",
        "    if not subject:\n",
        "        yield \"Please provide the Subject.\"\n",
        "        return  # terminate function here to prevent further execution\n",
        "\n",
        "    if not num_samples:\n",
        "        yield \"Please provide the Number of Samples.\"\n",
        "        return  # terminate function here to prevent further execution\n",
        "\n",
        "    if not all([sample_field1, sample_field2, sample_field3]):\n",
        "        yield \"Please provide all Sample Fields (Field 1, Field 2, Field 3).\"\n",
        "        return  # terminate function here to prevent further execution\n",
        "\n",
        "    if not all([sample1_value1, sample1_value2, sample1_value3,\n",
        "                sample2_value1, sample2_value2, sample2_value3]):\n",
        "        yield \"Please provide values for all fields in all samples.\"\n",
        "        return  # terminate function here to prevent further execution\n",
        "\n",
        "    # Construct examples from the fields and values\n",
        "    sample1 = {\n",
        "        sample_field1: sample1_value1,\n",
        "        sample_field2: sample1_value2,\n",
        "        sample_field3: sample1_value3\n",
        "    }\n",
        "    sample2 = {\n",
        "        sample_field1: sample2_value1,\n",
        "        sample_field2: sample2_value2,\n",
        "        sample_field3: sample2_value3\n",
        "    }\n",
        "\n",
        "    # Generate data based on validated inputs\n",
        "    try:\n",
        "        yield from generate_dataset(subject, num_samples, sample1, sample2)\n",
        "    except Exception as e:\n",
        "        yield f\"Error during data generation: {e}\"\n",
        "        return  # Terminate the function after yielding the error message to prevent further execution\n"
      ]
    },
    {
      "cell_type": "code",
      "execution_count": null,
      "metadata": {
        "id": "nOCYpSE2YTlD"
      },
      "outputs": [],
      "source": [
        "# Function to generate synthetic data\n",
        "def generate_dataset(subject, num_samples, sample1, sample2):\n",
        "    global tokenizer, model  # Use the globally defined tokenizer and model\n",
        "\n",
        "    # Construct messages for the chat template: the system prompt and user-specific instructions\n",
        "    messages = [\n",
        "        {\"role\": \"user\", \"content\": SYSTEM_PROMPT},  # System-level instructions\n",
        "        {\"role\": \"user\", \"content\": user_prompt(subject, num_samples, sample1, sample2)}  # User-defined parameters\n",
        "    ]\n",
        "\n",
        "    # Prepare the input data for the model using the tokenizer\n",
        "    inputs = tokenizer.apply_chat_template(\n",
        "        messages,\n",
        "        return_tensors=\"pt\",  # Return as PyTorch tensors\n",
        "        add_generation_prompt=True  # Include a generation prompt for the model\n",
        "    ).to(\"cuda\")  # Send data to the GPU for faster processing\n",
        "\n",
        "    # Set up a streamer to handle the token decoding process\n",
        "    streamer = TextIteratorStreamer(\n",
        "        tokenizer,  # The tokenizer used for decoding\n",
        "        skip_prompt=True,  # Skip the prompt text in the output\n",
        "        decode_kwargs={\"skip_special_tokens\": True}  # Exclude special tokens during decoding\n",
        "    )\n",
        "\n",
        "    # Create a thread to handle text generation asynchronously\n",
        "    thread = threading.Thread(\n",
        "        target=model.generate,  # Use the model's generate method\n",
        "        kwargs={\n",
        "            \"inputs\": inputs,  # Provide the prepared input tensors\n",
        "            \"max_new_tokens\": MAX_TOKENS,  # Limit the maximum number of tokens to generate\n",
        "            \"streamer\": streamer  # Stream the generated tokens using the streamer\n",
        "        }\n",
        "    )\n",
        "\n",
        "    thread.start()  # Start the generation thread\n",
        "\n",
        "    full_response = \"\"  # Initialize an empty string to store the full response\n",
        "    for chunk in streamer:  # Iterate over the streamed chunks of generated text\n",
        "        cleaned_chunk = chunk.replace(MODEL_EOS, \"\")  # Remove any end-of-sequence markers\n",
        "        full_response += cleaned_chunk  # Append the cleaned chunk to the full response\n",
        "        yield full_response  # Yield the accumulated response in real-time\n"
      ]
    },
    {
      "cell_type": "code",
      "execution_count": null,
      "metadata": {
        "id": "pgTXRK7hwUKT"
      },
      "outputs": [],
      "source": [
        "# Gradio UI function\n",
        "def gradio_ui():\n",
        "    with gr.Blocks() as ui:\n",
        "        gr.Markdown(\"\"\"\n",
        "        # Data Architect\n",
        "\n",
        "        Welcome to the `Data Architect`! Use this tool to create realistic and diverse datasets for testing purposes. Simply provide the required information below, including sample field names and values, and let the system generate synthetic data for you.\n",
        "        <br><br>\n",
        "        \"\"\")\n",
        "\n",
        "        # User inputs and output in a single column\n",
        "        gr.Markdown(\"\"\"\n",
        "        ## Define General Information\n",
        "        Provide the subject (e.g., Job Postings, Customer Reviews, Movie Listings) and the number of samples you wish to generate. This will guide the synthetic data generation process.\n",
        "        \"\"\")\n",
        "        with gr.Row():\n",
        "            subject = gr.Textbox(\n",
        "                label=\"Subject\",\n",
        "                placeholder=\"Enter the subject of the data\",\n",
        "                value=\"\"\n",
        "            )\n",
        "            num_samples = gr.Slider(\n",
        "              minimum=1,\n",
        "              maximum=100,\n",
        "              step=1,\n",
        "              value=6,\n",
        "              label=\"Number of Samples\"\n",
        "          )\n",
        "\n",
        "        gr.Markdown(\"\"\"\n",
        "        ## Define Sample Fields\n",
        "        Specify the names of the fields you want in your dataset. For example: Name, Age, or Address.\n",
        "        \"\"\")\n",
        "        with gr.Row():\n",
        "            sample_field1 = gr.Textbox(label=\"Field 1\", placeholder=\"Enter name of Field 1\", value=\"\")\n",
        "            sample_field2 = gr.Textbox(label=\"Field 2\", placeholder=\"Enter name of Field 2\", value=\"\")\n",
        "            sample_field3 = gr.Textbox(label=\"Field 3\", placeholder=\"Enter name of Field 3\", value=\"\")\n",
        "\n",
        "        gr.Markdown(\"\"\"\n",
        "        ## Sample 1\n",
        "        Provide example values for each field in your first sample.\n",
        "        \"\"\")\n",
        "        with gr.Row():\n",
        "            sample1_value1 = gr.Textbox(label=\"Field 1 - Value\", placeholder=\"Enter value for Field 1\", value=\"\")\n",
        "            sample1_value2 = gr.Textbox(label=\"Field 2 - Value\", placeholder=\"Enter value for Field 2\", value=\"\")\n",
        "            sample1_value3 = gr.Textbox(label=\"Field 3 - Value\", placeholder=\"Enter value for Field 3\", value=\"\")\n",
        "\n",
        "        gr.Markdown(\"\"\"\n",
        "        ## Sample 2\n",
        "        Provide example values for each field in your second sample.\n",
        "        \"\"\")\n",
        "        with gr.Row():\n",
        "            sample2_value1 = gr.Textbox(label=\"Field 1 - Value\", placeholder=\"Enter value for Field 1\", value=\"\")\n",
        "            sample2_value2 = gr.Textbox(label=\"Field 2 - Value\", placeholder=\"Enter value for Field 2\", value=\"\")\n",
        "            sample2_value3 = gr.Textbox(label=\"Field 3 - Value\", placeholder=\"Enter value for Field 3\", value=\"\")\n",
        "\n",
        "        # Button to trigger generation\n",
        "        generate_button = gr.Button(\"Generate Synthetic Data\")\n",
        "\n",
        "        # Markdown for final output\n",
        "        gr.Markdown(\"\"\"\n",
        "        ## Generated Dataset\n",
        "        ### The final aggregated dataset will appear below in JSON format. You can select and copy this data for your testing, development, or deployment needs.\n",
        "        \"\"\")\n",
        "        output = gr.TextArea(\n",
        "            label=\"Generated Dataset\",\n",
        "            interactive=False,  # Read-only\n",
        "            lines=15\n",
        "        )\n",
        "\n",
        "        # Bind button click to processing function\n",
        "        generate_button.click(\n",
        "            fn=process_user_inputs,\n",
        "            inputs=[\n",
        "                subject, num_samples,\n",
        "                sample_field1, sample_field2, sample_field3,\n",
        "                sample1_value1, sample1_value2, sample1_value3,\n",
        "                sample2_value1, sample2_value2, sample2_value3\n",
        "            ],\n",
        "            outputs=output\n",
        "        )\n",
        "\n",
        "    return ui\n"
      ]
    },
    {
      "cell_type": "code",
      "execution_count": null,
      "metadata": {
        "colab": {
          "base_uri": "https://localhost:8080/",
          "height": 645
        },
        "id": "eVs6Bhp_wUGC",
        "outputId": "fad08e58-51c1-4222-a07e-4e73b480029b"
      },
      "outputs": [
        {
          "name": "stdout",
          "output_type": "stream",
          "text": [
            "Running Gradio in a Colab notebook requires sharing enabled. Automatically setting `share=True` (you can turn this off by setting `share=False` in `launch()` explicitly).\n",
            "\n",
            "Colab notebook detected. To show errors in colab notebook, set debug=True in launch()\n",
            "* Running on public URL: https://81edd1c902e97c5a09.gradio.live\n",
            "\n",
            "This share link expires in 72 hours. For free permanent hosting and GPU upgrades, run `gradio deploy` from the terminal in the working directory to deploy to Hugging Face Spaces (https://huggingface.co/spaces)\n"
          ]
        },
        {
          "data": {
            "text/html": [
              "<div><iframe src=\"https://81edd1c902e97c5a09.gradio.live\" width=\"100%\" height=\"500\" allow=\"autoplay; camera; microphone; clipboard-read; clipboard-write;\" frameborder=\"0\" allowfullscreen></iframe></div>"
            ],
            "text/plain": [
              "<IPython.core.display.HTML object>"
            ]
          },
          "metadata": {},
          "output_type": "display_data"
        },
        {
          "data": {
            "text/plain": []
          },
          "execution_count": 39,
          "metadata": {},
          "output_type": "execute_result"
        }
      ],
      "source": [
        "# Launch the UI\n",
        "ui = gradio_ui()\n",
        "ui.launch(inbrowser=True)"
      ]
    },
    {
      "cell_type": "markdown",
      "metadata": {
        "id": "i7VQkGygFBYJ"
      },
      "source": [
        "## Contributing\n",
        "Contributions are welcome! Here are some ways you can contribute to the project:\n",
        "- Report bugs and issues.\n",
        "- Suggest new features or improvements.\n",
        "- Submit pull requests with bug fixes or enhancements.\n",
        "\n",
        "You can contribute to this project by visiting the [GitHub repository](https://github.com/emads22/MeetingRecap).\n",
        "\n",
        "## Author\n",
        "- **Emad**  \n",
        "  [<img src=\"https://img.shields.io/badge/GitHub-Profile-blue?logo=github\" width=\"150\">](https://github.com/emads22)\n",
        "\n",
        "## License\n",
        "This project is licensed under the MIT License, which grants permission for free use, modification, distribution, and sublicense of the code, provided that the copyright notice (attributed to [emads22](https://github.com/emads22)) and permission notice are included in all copies or substantial portions of the software. This license is permissive and allows users to utilize the code for both commercial and non-commercial purposes.\n",
        "\n",
        "Please see the [LICENSE](https://github.com/emads22/MeetingRecap/blob/main/LICENSE) file for more details.\n"
      ]
    }
  ],
  "metadata": {
    "accelerator": "GPU",
    "colab": {
      "gpuType": "T4",
      "provenance": []
    },
    "kernelspec": {
      "display_name": "Python 3",
      "name": "python3"
    },
    "language_info": {
      "name": "python"
    },
    "widgets": {
      "application/vnd.jupyter.widget-state+json": {
        "1170dbecdbca46cbb68fed670e7d1e97": {
          "model_module": "@jupyter-widgets/controls",
          "model_module_version": "1.5.0",
          "model_name": "FloatProgressModel",
          "state": {
            "_dom_classes": [],
            "_model_module": "@jupyter-widgets/controls",
            "_model_module_version": "1.5.0",
            "_model_name": "FloatProgressModel",
            "_view_count": null,
            "_view_module": "@jupyter-widgets/controls",
            "_view_module_version": "1.5.0",
            "_view_name": "ProgressView",
            "bar_style": "success",
            "description": "",
            "description_tooltip": null,
            "layout": "IPY_MODEL_6bab5a0e677e4f24ba276008faa90e4d",
            "max": 2,
            "min": 0,
            "orientation": "horizontal",
            "style": "IPY_MODEL_505b9e6fd112441b8a2edd3902cf0a36",
            "value": 2
          }
        },
        "1b875156586a423fa8ea123a4ac29506": {
          "model_module": "@jupyter-widgets/base",
          "model_module_version": "1.2.0",
          "model_name": "LayoutModel",
          "state": {
            "_model_module": "@jupyter-widgets/base",
            "_model_module_version": "1.2.0",
            "_model_name": "LayoutModel",
            "_view_count": null,
            "_view_module": "@jupyter-widgets/base",
            "_view_module_version": "1.2.0",
            "_view_name": "LayoutView",
            "align_content": null,
            "align_items": null,
            "align_self": null,
            "border": null,
            "bottom": null,
            "display": null,
            "flex": null,
            "flex_flow": null,
            "grid_area": null,
            "grid_auto_columns": null,
            "grid_auto_flow": null,
            "grid_auto_rows": null,
            "grid_column": null,
            "grid_gap": null,
            "grid_row": null,
            "grid_template_areas": null,
            "grid_template_columns": null,
            "grid_template_rows": null,
            "height": null,
            "justify_content": null,
            "justify_items": null,
            "left": null,
            "margin": null,
            "max_height": null,
            "max_width": null,
            "min_height": null,
            "min_width": null,
            "object_fit": null,
            "object_position": null,
            "order": null,
            "overflow": null,
            "overflow_x": null,
            "overflow_y": null,
            "padding": null,
            "right": null,
            "top": null,
            "visibility": null,
            "width": null
          }
        },
        "22ebb22226bc4814b89b66fe3e3b7476": {
          "model_module": "@jupyter-widgets/controls",
          "model_module_version": "1.5.0",
          "model_name": "HTMLModel",
          "state": {
            "_dom_classes": [],
            "_model_module": "@jupyter-widgets/controls",
            "_model_module_version": "1.5.0",
            "_model_name": "HTMLModel",
            "_view_count": null,
            "_view_module": "@jupyter-widgets/controls",
            "_view_module_version": "1.5.0",
            "_view_name": "HTMLView",
            "description": "",
            "description_tooltip": null,
            "layout": "IPY_MODEL_33bca2a6731549ed80c1222fb84cec50",
            "placeholder": "​",
            "style": "IPY_MODEL_8c31c8e698014058add3e48bb7ca4b58",
            "value": " 2/2 [00:33&lt;00:00, 14.81s/it]"
          }
        },
        "33bca2a6731549ed80c1222fb84cec50": {
          "model_module": "@jupyter-widgets/base",
          "model_module_version": "1.2.0",
          "model_name": "LayoutModel",
          "state": {
            "_model_module": "@jupyter-widgets/base",
            "_model_module_version": "1.2.0",
            "_model_name": "LayoutModel",
            "_view_count": null,
            "_view_module": "@jupyter-widgets/base",
            "_view_module_version": "1.2.0",
            "_view_name": "LayoutView",
            "align_content": null,
            "align_items": null,
            "align_self": null,
            "border": null,
            "bottom": null,
            "display": null,
            "flex": null,
            "flex_flow": null,
            "grid_area": null,
            "grid_auto_columns": null,
            "grid_auto_flow": null,
            "grid_auto_rows": null,
            "grid_column": null,
            "grid_gap": null,
            "grid_row": null,
            "grid_template_areas": null,
            "grid_template_columns": null,
            "grid_template_rows": null,
            "height": null,
            "justify_content": null,
            "justify_items": null,
            "left": null,
            "margin": null,
            "max_height": null,
            "max_width": null,
            "min_height": null,
            "min_width": null,
            "object_fit": null,
            "object_position": null,
            "order": null,
            "overflow": null,
            "overflow_x": null,
            "overflow_y": null,
            "padding": null,
            "right": null,
            "top": null,
            "visibility": null,
            "width": null
          }
        },
        "45853583a5d74489b78e7a757c86eabc": {
          "model_module": "@jupyter-widgets/controls",
          "model_module_version": "1.5.0",
          "model_name": "HBoxModel",
          "state": {
            "_dom_classes": [],
            "_model_module": "@jupyter-widgets/controls",
            "_model_module_version": "1.5.0",
            "_model_name": "HBoxModel",
            "_view_count": null,
            "_view_module": "@jupyter-widgets/controls",
            "_view_module_version": "1.5.0",
            "_view_name": "HBoxView",
            "box_style": "",
            "children": [
              "IPY_MODEL_c39c4145234b46c2aae26cc7c69cbbe4",
              "IPY_MODEL_1170dbecdbca46cbb68fed670e7d1e97",
              "IPY_MODEL_22ebb22226bc4814b89b66fe3e3b7476"
            ],
            "layout": "IPY_MODEL_1b875156586a423fa8ea123a4ac29506"
          }
        },
        "4759ae33a1324998adc0c0c13fb61846": {
          "model_module": "@jupyter-widgets/controls",
          "model_module_version": "1.5.0",
          "model_name": "DescriptionStyleModel",
          "state": {
            "_model_module": "@jupyter-widgets/controls",
            "_model_module_version": "1.5.0",
            "_model_name": "DescriptionStyleModel",
            "_view_count": null,
            "_view_module": "@jupyter-widgets/base",
            "_view_module_version": "1.2.0",
            "_view_name": "StyleView",
            "description_width": ""
          }
        },
        "505b9e6fd112441b8a2edd3902cf0a36": {
          "model_module": "@jupyter-widgets/controls",
          "model_module_version": "1.5.0",
          "model_name": "ProgressStyleModel",
          "state": {
            "_model_module": "@jupyter-widgets/controls",
            "_model_module_version": "1.5.0",
            "_model_name": "ProgressStyleModel",
            "_view_count": null,
            "_view_module": "@jupyter-widgets/base",
            "_view_module_version": "1.2.0",
            "_view_name": "StyleView",
            "bar_color": null,
            "description_width": ""
          }
        },
        "54aec0d87ac04cbeb19c91e25865490c": {
          "model_module": "@jupyter-widgets/base",
          "model_module_version": "1.2.0",
          "model_name": "LayoutModel",
          "state": {
            "_model_module": "@jupyter-widgets/base",
            "_model_module_version": "1.2.0",
            "_model_name": "LayoutModel",
            "_view_count": null,
            "_view_module": "@jupyter-widgets/base",
            "_view_module_version": "1.2.0",
            "_view_name": "LayoutView",
            "align_content": null,
            "align_items": null,
            "align_self": null,
            "border": null,
            "bottom": null,
            "display": null,
            "flex": null,
            "flex_flow": null,
            "grid_area": null,
            "grid_auto_columns": null,
            "grid_auto_flow": null,
            "grid_auto_rows": null,
            "grid_column": null,
            "grid_gap": null,
            "grid_row": null,
            "grid_template_areas": null,
            "grid_template_columns": null,
            "grid_template_rows": null,
            "height": null,
            "justify_content": null,
            "justify_items": null,
            "left": null,
            "margin": null,
            "max_height": null,
            "max_width": null,
            "min_height": null,
            "min_width": null,
            "object_fit": null,
            "object_position": null,
            "order": null,
            "overflow": null,
            "overflow_x": null,
            "overflow_y": null,
            "padding": null,
            "right": null,
            "top": null,
            "visibility": null,
            "width": null
          }
        },
        "6bab5a0e677e4f24ba276008faa90e4d": {
          "model_module": "@jupyter-widgets/base",
          "model_module_version": "1.2.0",
          "model_name": "LayoutModel",
          "state": {
            "_model_module": "@jupyter-widgets/base",
            "_model_module_version": "1.2.0",
            "_model_name": "LayoutModel",
            "_view_count": null,
            "_view_module": "@jupyter-widgets/base",
            "_view_module_version": "1.2.0",
            "_view_name": "LayoutView",
            "align_content": null,
            "align_items": null,
            "align_self": null,
            "border": null,
            "bottom": null,
            "display": null,
            "flex": null,
            "flex_flow": null,
            "grid_area": null,
            "grid_auto_columns": null,
            "grid_auto_flow": null,
            "grid_auto_rows": null,
            "grid_column": null,
            "grid_gap": null,
            "grid_row": null,
            "grid_template_areas": null,
            "grid_template_columns": null,
            "grid_template_rows": null,
            "height": null,
            "justify_content": null,
            "justify_items": null,
            "left": null,
            "margin": null,
            "max_height": null,
            "max_width": null,
            "min_height": null,
            "min_width": null,
            "object_fit": null,
            "object_position": null,
            "order": null,
            "overflow": null,
            "overflow_x": null,
            "overflow_y": null,
            "padding": null,
            "right": null,
            "top": null,
            "visibility": null,
            "width": null
          }
        },
        "8c31c8e698014058add3e48bb7ca4b58": {
          "model_module": "@jupyter-widgets/controls",
          "model_module_version": "1.5.0",
          "model_name": "DescriptionStyleModel",
          "state": {
            "_model_module": "@jupyter-widgets/controls",
            "_model_module_version": "1.5.0",
            "_model_name": "DescriptionStyleModel",
            "_view_count": null,
            "_view_module": "@jupyter-widgets/base",
            "_view_module_version": "1.2.0",
            "_view_name": "StyleView",
            "description_width": ""
          }
        },
        "c39c4145234b46c2aae26cc7c69cbbe4": {
          "model_module": "@jupyter-widgets/controls",
          "model_module_version": "1.5.0",
          "model_name": "HTMLModel",
          "state": {
            "_dom_classes": [],
            "_model_module": "@jupyter-widgets/controls",
            "_model_module_version": "1.5.0",
            "_model_name": "HTMLModel",
            "_view_count": null,
            "_view_module": "@jupyter-widgets/controls",
            "_view_module_version": "1.5.0",
            "_view_name": "HTMLView",
            "description": "",
            "description_tooltip": null,
            "layout": "IPY_MODEL_54aec0d87ac04cbeb19c91e25865490c",
            "placeholder": "​",
            "style": "IPY_MODEL_4759ae33a1324998adc0c0c13fb61846",
            "value": "Loading checkpoint shards: 100%"
          }
        }
      }
    }
  },
  "nbformat": 4,
  "nbformat_minor": 0
}
